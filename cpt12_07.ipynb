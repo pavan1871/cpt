{
  "nbformat": 4,
  "nbformat_minor": 0,
  "metadata": {
    "colab": {
      "provenance": []
    },
    "kernelspec": {
      "name": "python3",
      "display_name": "Python 3"
    },
    "language_info": {
      "name": "python"
    }
  },
  "cells": [
    {
      "cell_type": "code",
      "source": [
        "#  pancake sort\n",
        "# algorithm\n",
        "'''\n",
        "1.start complete array and decrease the size (n-1)\n",
        "2.for each size:\n",
        "a.find the index of max element\n",
        "b.flip the array with max element index\n",
        "c.flip the total array to the current size\n",
        "max->move the end of the array\n",
        "3.repeat step1 by n-2,n-3......\n",
        "for nth reduced element perform step2 untill 0th index value respectively.\n",
        "'''"
      ],
      "metadata": {
        "id": "uWfzNlZWzwMB"
      },
      "execution_count": null,
      "outputs": []
    },
    {
      "cell_type": "code",
      "source": [
        "def flip(arr,k):\n",
        "  return arr[:k+1][::-1]+arr[k+1:]\n",
        "\n",
        "def pancake(arr):\n",
        "  n=len(arr)\n",
        "  for size in range(n,1,-1):\n",
        "    max_index= arr.index(max(arr[:size]))\n",
        "    if max_index != size-1:\n",
        "      if max_index !=0:\n",
        "        arr= flip(arr,max_index)\n",
        "        print(f\"Flip at{max_index+1}: {arr}\")\n",
        "      arr= flip(arr,size-1)\n",
        "      print(f\"Flip at{size}: {arr}\")\n",
        "  return arr\n",
        "\n",
        "\n",
        "\n",
        "nums=list(map(int,input(\"Enter number seperated with space: \").split()))\n",
        "sorted_nums=pancake(nums)\n",
        "print(\"soted\", sorted_nums)\n"
      ],
      "metadata": {
        "colab": {
          "base_uri": "https://localhost:8080/"
        },
        "id": "pN5Env_i3XR4",
        "outputId": "e655b322-2ecb-48cc-ca7c-1d7b537c0b07"
      },
      "execution_count": 3,
      "outputs": [
        {
          "output_type": "stream",
          "name": "stdout",
          "text": [
            "Enter number seperated with space: 8 3 9 6 2 5 7\n",
            "Flip at3: [9, 3, 8, 6, 2, 5, 7]\n",
            "Flip at7: [7, 5, 2, 6, 8, 3, 9]\n",
            "Flip at5: [8, 6, 2, 5, 7, 3, 9]\n",
            "Flip at6: [3, 7, 5, 2, 6, 8, 9]\n",
            "Flip at2: [7, 3, 5, 2, 6, 8, 9]\n",
            "Flip at5: [6, 2, 5, 3, 7, 8, 9]\n",
            "Flip at4: [3, 5, 2, 6, 7, 8, 9]\n",
            "Flip at2: [5, 3, 2, 6, 7, 8, 9]\n",
            "Flip at3: [2, 3, 5, 6, 7, 8, 9]\n",
            "soted [2, 3, 5, 6, 7, 8, 9]\n"
          ]
        }
      ]
    },
    {
      "cell_type": "code",
      "source": [
        "'''\n",
        "\n"
      ],
      "metadata": {
        "id": "p_eBlDeq7SyJ"
      },
      "execution_count": null,
      "outputs": []
    }
  ]
}