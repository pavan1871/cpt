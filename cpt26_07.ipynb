{
  "cells": [
    {
      "cell_type": "code",
      "execution_count": null,
      "metadata": {
        "id": "9J7er0tt_VRM"
      },
      "outputs": [],
      "source": [
        "operations of double Linked List:\n",
        "\n",
        "1.insertion -at begin, end, position\n",
        "2.deletion -by value\n",
        "3.traversal - forward and backward\n",
        "\n",
        "head<-->node1<-->node2<-->node3<-->null\n"
      ]
    },
    {
      "cell_type": "code",
      "execution_count": null,
      "metadata": {
        "id": "z8KzjjebBQiq"
      },
      "outputs": [],
      "source": [
        "'''\n",
        "class node:\n",
        "  def __init__(self,data):\n",
        "    self.data=data\n",
        "    self.next=None\n",
        "    self.prev=None'''"
      ]
    },
    {
      "cell_type": "code",
      "execution_count": null,
      "metadata": {
        "colab": {
          "base_uri": "https://localhost:8080/"
        },
        "id": "mHqhR0cEBVxp",
        "outputId": "16a39d4b-dad7-49ec-b4ea-3c5527946d3f"
      },
      "outputs": [
        {
          "name": "stdout",
          "output_type": "stream",
          "text": [
            "enter the number of elements to insert at end: 5\n",
            "Enter element 1: 12\n",
            "Enter element 2: 23\n",
            "Enter element 3: 34\n",
            "Enter element 4: 45\n",
            "Enter element 5: 56\n",
            "Double Linked List:\n",
            "12<-->23<-->34<-->45<-->56<-->Null\n"
          ]
        }
      ],
      "source": [
        "#  at the end insertion on Double Linked List\n",
        "\n",
        "class Node:\n",
        "  def __init__(self,data):\n",
        "    self.data=data\n",
        "    self.prev=None\n",
        "    self.next=None\n",
        "\n",
        "class DoublyLinkedList:\n",
        "  def __init__(self):\n",
        "    self.head=None\n",
        "  def iae(self,data):\n",
        "    newnode= Node(data)\n",
        "    if self.head is None:\n",
        "      self.head=newnode\n",
        "      return\n",
        "    temp= self.head\n",
        "    while temp.next:\n",
        "        temp=temp.next\n",
        "    temp.next=newnode\n",
        "    newnode.prev=temp\n",
        "  def display(self):\n",
        "    temp=self.head\n",
        "    print(\"Double Linked List:\")\n",
        "    while temp:\n",
        "      print(temp.data,end=\"<-->\")\n",
        "      temp=temp.next\n",
        "    print(\"Null\")\n",
        "\n",
        "dll=DoublyLinkedList()\n",
        "n = int(input(\"enter the number of elements to insert at end: \"))\n",
        "for i in range(n):\n",
        "  val=int(input(f\"Enter element {i+1}: \"))\n",
        "  dll.iae(val)\n",
        "dll.display()"
      ]
    },
    {
      "cell_type": "code",
      "execution_count": null,
      "metadata": {
        "colab": {
          "base_uri": "https://localhost:8080/"
        },
        "id": "sRW_J4e0KS3o",
        "outputId": "e0c081fc-21c9-4f4b-dc3d-ab5d2ef14132"
      },
      "outputs": [
        {
          "name": "stdout",
          "output_type": "stream",
          "text": [
            "Enter the number of elements to insert at beginning: 5\n",
            "Enter element 1: 65\n",
            "Enter element 2: 67\n",
            "Enter element 3: 78\n",
            "Enter element 4: 89\n",
            "Enter element 5: 90\n",
            "Doubly Linked List:\n",
            "90<-->89<-->78<-->67<-->65<-->Null\n"
          ]
        }
      ],
      "source": [
        "class Node:\n",
        "  def __init__(self, data):\n",
        "    self.data = data\n",
        "    self.prev = None\n",
        "    self.next = None\n",
        "\n",
        "class DoublyLinkedList:\n",
        "  def __init__(self):\n",
        "    self.head = None\n",
        "\n",
        "  def iae(self, data):\n",
        "    newnode = Node(data)\n",
        "    if self.head is None:\n",
        "      self.head = newnode\n",
        "      return\n",
        "    temp = self.head\n",
        "    while temp.next:\n",
        "      temp = temp.next\n",
        "    temp.next = newnode\n",
        "    newnode.prev = temp\n",
        "\n",
        "  def iab(self, data):\n",
        "    newnode = Node(data)\n",
        "    if self.head is None:\n",
        "      self.head = newnode\n",
        "      return\n",
        "    newnode.next = self.head\n",
        "    self.head.prev = newnode\n",
        "    self.head = newnode\n",
        "\n",
        "  def display(self):\n",
        "    temp = self.head\n",
        "    print(\"Doubly Linked List:\")\n",
        "    while temp:\n",
        "      print(temp.data, end=\"<-->\")\n",
        "      temp = temp.next\n",
        "    print(\"Null\")\n",
        "\n",
        "\n",
        "dll = DoublyLinkedList()\n",
        "n = int(input(\"Enter the number of elements to insert at beginning: \"))\n",
        "for i in range(n):\n",
        "  val = int(input(f\"Enter element {i+1}: \"))\n",
        "  dll.iab(val)\n",
        "dll.display()"
      ]
    },
    {
      "cell_type": "code",
      "execution_count": null,
      "metadata": {
        "colab": {
          "background_save": true,
          "base_uri": "https://localhost:8080/"
        },
        "id": "qaRfGEeXLK4y",
        "outputId": "f7434f15-426c-478f-9e67-6fbd57874561"
      },
      "outputs": [
        {
          "name": "stdout",
          "output_type": "stream",
          "text": [
            "position off range\n",
            "position off range\n"
          ]
        }
      ],
      "source": [
        "class Node:\n",
        "    def __init__(self, data):\n",
        "        self.data = data\n",
        "        self.prev = None\n",
        "        self.next = None\n",
        "\n",
        "class DoublyLinkedList:\n",
        "    def __init__(self):\n",
        "        self.head = None\n",
        "\n",
        "    def iap(self, pos, data):\n",
        "        newnode = Node(data)\n",
        "        if pos <= 0:\n",
        "            print(\"Invalid position\")\n",
        "            return\n",
        "\n",
        "        if pos == 1:\n",
        "            newnode.next = self.head\n",
        "            if self.head:\n",
        "                self.head.prev = newnode\n",
        "            self.head = newnode\n",
        "            return\n",
        "\n",
        "        temp = self.head\n",
        "        for _ in range(pos - 2):\n",
        "            if temp is None:\n",
        "                print(\"Position out of range\")\n",
        "                return\n",
        "            temp = temp.next\n",
        "\n",
        "        if temp is None:\n",
        "            print(\"Position out of range\")\n",
        "            return\n",
        "\n",
        "        newnode.next = temp.next\n",
        "        newnode.prev = temp\n",
        "        if temp.next:\n",
        "            temp.next.prev = newnode\n",
        "        temp.next = newnode\n",
        "\n",
        "    def display(self):\n",
        "        temp = self.head\n",
        "        print(\"Doubly Linked List:\")\n",
        "        while temp:\n",
        "            print(temp.data, end=\" <--> \")\n",
        "            temp = temp.next\n",
        "        print(\"None\")\n",
        "\n",
        "dll = DoublyLinkedList()\n",
        "n = int(input(\"Enter the number of elements to insert: \"))\n",
        "for i in range(n):\n",
        "    val = int(input(f\"Enter element {i+1}: \"))\n",
        "    pos = int(input(f\"Enter the position to insert {val}: \"))\n",
        "    dll.iap(pos, val)\n",
        "\n",
        "dll.display()\n"
      ]
    },
    {
      "cell_type": "code",
      "execution_count": null,
      "metadata": {
        "id": "xoj_o-WXcBEI"
      },
      "outputs": [],
      "source": [
        "class Node:\n",
        "  def __init__(self, data):\n",
        "    self.data=data\n",
        "    self.prev=None\n",
        "    self.next=None\n",
        "class DoubllyLinkedList:\n",
        "  def __init__(self):\n",
        "    self.head=None\n",
        "  def iae(self, data):\n",
        "    newnode = Node(data)\n",
        "    if self.head is None:\n",
        "      self.head= newnode\n",
        "      return\n",
        "    temp = self.head\n",
        "    while temp.next:\n",
        "      temp=temp.next\n",
        "    temp.next=newnode\n",
        "    newnode.prev=temp\n",
        "  def display(self):\n",
        "    temp=self.head\n",
        "    print(\"Double Linked List: \")\n",
        "    while temp:\n",
        "      print(temp.data, end=\"<-->\")\n",
        "      temp=temp.next\n",
        "    print(\"None\")\n",
        "  def search(self, key):\n",
        "    pos=1\n",
        "    current=self.head\n",
        "    while current:\n",
        "      if current.data==key:\n",
        "        print(f\"{key} found in the dll\")\n",
        "        return True\n",
        "      current=current.next\n",
        "      pos+=1\n",
        "    print(f\"{key} not found in the dll\")\n",
        "    return False\n",
        "\n",
        "dll= DoubllyLinkedList()\n",
        "n= int(input(\"Enter the number of elements to insert at end: \"))\n",
        "for i in range (n):\n",
        "  val = int(input(f\" Enter element {i+1}: \"))\n",
        "  dll.iae(val)\n",
        "dll.display()\n",
        "key= int(input(\"Enter the value: \"))\n",
        "dll.search(key)\n"
      ]
    },
    {
      "cell_type": "code",
      "execution_count": 3,
      "metadata": {
        "id": "vgk21XJYkw0h",
        "colab": {
          "base_uri": "https://localhost:8080/"
        },
        "outputId": "f5c3af94-d19c-455e-aebb-9d93f7516d68"
      },
      "outputs": [
        {
          "output_type": "stream",
          "name": "stdout",
          "text": [
            "Enter the number of elements to insert at end: 5\n",
            " Enter element 1: 20\n",
            " Enter element 2: 30\n",
            " Enter element 3: 40\n",
            " Enter element 4: 50\n",
            " Enter element 5: 60\n",
            "Double Linked List: \n",
            "20<-->30<-->40<-->50<-->60<-->None\n",
            "values for traversing backward....\n",
            "20<-->30<-->40<-->50<-->60<-->50<-->40<-->30<-->20<-->None\n"
          ]
        }
      ],
      "source": [
        "class Node:\n",
        "  def __init__(self, data):\n",
        "    self.data=data\n",
        "    self.prev=None\n",
        "    self.next=None\n",
        "class DoubllyLinkedList:\n",
        "  def __init__(self):\n",
        "    self.head=None\n",
        "  def iae(self, data):\n",
        "    newnode = Node(data)\n",
        "    if self.head is None:\n",
        "      self.head= newnode\n",
        "      return\n",
        "    temp = self.head\n",
        "    while temp.next:\n",
        "      temp=temp.next\n",
        "    temp.next=newnode\n",
        "    newnode.prev=temp\n",
        "  def backtraverse(self):\n",
        "    print(\"values for traversing backward....\")\n",
        "    temp=self.head\n",
        "    if not temp:\n",
        "      print(\"Empty list\")\n",
        "      return\n",
        "    while temp.next:\n",
        "      print(temp.data, end='<-->')\n",
        "      temp=temp.next\n",
        "    while temp:\n",
        "      print(temp.data, end=\"<-->\")\n",
        "      temp=temp.prev\n",
        "    print(\"None\")\n",
        "\n",
        "  def display(self):\n",
        "    temp=self.head\n",
        "    print(\"Double Linked List: \")\n",
        "    while temp:\n",
        "      print(temp.data, end=\"<-->\")\n",
        "      temp=temp.next\n",
        "    print(\"None\")\n",
        "  # def search(self, key):\n",
        "  #   pos=1\n",
        "  #   current=self.head\n",
        "  #   while current:\n",
        "  #     if current.data==key:\n",
        "  #       print(f\"{key} found in the dll\")\n",
        "  #       return True\n",
        "  #     current=current.next\n",
        "  #     pos+=1\n",
        "  #   print(f\"{key} not found in the dll\")\n",
        "  #   return False\n",
        "\n",
        "dll= DoubllyLinkedList()\n",
        "n= int(input(\"Enter the number of elements to insert at end: \"))\n",
        "for i in range (n):\n",
        "  val = int(input(f\" Enter element {i+1}: \"))\n",
        "  dll.iae(val)\n",
        "dll.display()\n",
        "dll.backtraverse()\n",
        "# key= int(input(\"Enter the value: \"))\n",
        "# dll.search(key)\n"
      ]
    },
    {
      "cell_type": "code",
      "source": [],
      "metadata": {
        "id": "BLHOhFNDcrJ3"
      },
      "execution_count": null,
      "outputs": []
    }
  ],
  "metadata": {
    "colab": {
      "provenance": []
    },
    "kernelspec": {
      "display_name": "Python 3",
      "name": "python3"
    },
    "language_info": {
      "name": "python"
    }
  },
  "nbformat": 4,
  "nbformat_minor": 0
}