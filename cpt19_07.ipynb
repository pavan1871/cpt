{
  "nbformat": 4,
  "nbformat_minor": 0,
  "metadata": {
    "colab": {
      "provenance": []
    },
    "kernelspec": {
      "name": "python3",
      "display_name": "Python 3"
    },
    "language_info": {
      "name": "python"
    }
  },
  "cells": [
    {
      "cell_type": "code",
      "execution_count": 1,
      "metadata": {
        "colab": {
          "base_uri": "https://localhost:8080/",
          "height": 140
        },
        "id": "eP5h2_n03Kqn",
        "outputId": "40e80a74-519f-4b25-b704-ef9a1d998b46"
      },
      "outputs": [
        {
          "output_type": "execute_result",
          "data": {
            "text/plain": [
              "'\\n1.exception - for basse classes\\n2.ArthmeticError - math errors\\n3.ZeroDivisionError- 4/0\\n4.StopIteration= next method or iterator not available/ condition not available\\n5.SystemExit- current operating system exit\\n6.StandardError= pre defined keywords\\n7.EofError= end of file error\\n8.ImportError= file exesting errors\\n9.KeyboardInterrupt- execution interrupt\\n10.NameError-\\n11.ValueError-\\n12.IndexError-\\n13.TypeError-\\n14.IOError-\\n15.SyntaxError-\\n16.RuntimeError-\\n17.IndentationError-\\n18.AttributeError-\\n19.AssertionError-\\n'"
            ],
            "application/vnd.google.colaboratory.intrinsic+json": {
              "type": "string"
            }
          },
          "metadata": {},
          "execution_count": 1
        }
      ],
      "source": [
        "# exceptional handling:\n",
        "'''\n",
        "1.exception - for basse classes\n",
        "2.ArthmeticError - math errors\n",
        "3.ZeroDivisionError- 4/0\n",
        "4.StopIteration= next method or iterator not available/ condition not available\n",
        "5.SystemExit- current operating system exit\n",
        "6.StandardError= pre defined keywords\n",
        "7.EofError= end of file error\n",
        "8.ImportError= file exesting errors\n",
        "9.KeyboardInterrupt- execution interrupt\n",
        "10.NameError-\n",
        "11.ValueError-\n",
        "12.IndexError-\n",
        "13.TypeError-\n",
        "14.IOError-\n",
        "15.SyntaxError-\n",
        "16.RuntimeError-\n",
        "17.IndentationError-\n",
        "18.AttributeError-\n",
        "19.AssertionError-\n",
        "'''\n",
        "\n",
        "\n"
      ]
    },
    {
      "cell_type": "code",
      "source": [
        "try:\n",
        "  num1=int(input(\"enter numerator:\"))\n",
        "  num2=int(input(\"enter denominator:\" ))\n",
        "  output=num1/num2\n",
        "  print(\"Result:\", output)\n",
        "except ZeroDivisionError:\n",
        "  print(\"Zero cannot be divided.\")\n"
      ],
      "metadata": {
        "colab": {
          "base_uri": "https://localhost:8080/"
        },
        "id": "44Cjj2yqBweE",
        "outputId": "95bf76b4-6d2b-4df8-f9ab-c8604ab3aa06"
      },
      "execution_count": 6,
      "outputs": [
        {
          "output_type": "stream",
          "name": "stdout",
          "text": [
            "enter numerator:5\n",
            "enter denominator:0\n",
            "Zero cannot be divided.\n"
          ]
        }
      ]
    },
    {
      "cell_type": "code",
      "source": [
        "try:\n",
        "  filename= input(\"Enter the file name:\")\n",
        "  file= open(filename,'r')\n",
        "  number= int(file.readline())\n",
        "  print(\"Number from file\", number)\n",
        "  file.close()\n",
        "except FileNotFoundError:\n",
        "  print(\"File not found.......\")\n",
        "except ValueError:\n",
        "  print(\"File does not have integer.......\")\n",
        "except:\n",
        "  print(\"Unknow Error\")\n"
      ],
      "metadata": {
        "colab": {
          "base_uri": "https://localhost:8080/"
        },
        "id": "mnXedPihC_RU",
        "outputId": "5f563be2-7dba-411a-dd21-e166eade3807"
      },
      "execution_count": 10,
      "outputs": [
        {
          "output_type": "stream",
          "name": "stdout",
          "text": [
            "Enter the file name:/content/sample_data/anscombe.json\n",
            "File does not have integer.......\n"
          ]
        }
      ]
    },
    {
      "cell_type": "code",
      "source": [
        "try:\n",
        "  num=int(input(\"Enter a number:\"))\n",
        "  print(num**3)\n",
        "\n",
        "except (KeyboardInterrupt,ValueError, TypeError):\n",
        "  print(\"Please check before executing....\")\n",
        "print(\"Pogram Terminated....\")"
      ],
      "metadata": {
        "colab": {
          "base_uri": "https://localhost:8080/"
        },
        "id": "gv5lXWVRFguU",
        "outputId": "e5efb88e-1b9a-4466-ffa8-737b4aa76b2d"
      },
      "execution_count": 11,
      "outputs": [
        {
          "output_type": "stream",
          "name": "stdout",
          "text": [
            "Enter a number:5\n",
            "125\n",
            "Pogram Terminated....\n"
          ]
        }
      ]
    },
    {
      "cell_type": "code",
      "source": [
        "import math\n",
        "try:\n",
        "  num=int(input(\"Enter a number:\"))\n",
        "  if num<0:\n",
        "    raise ValueError(\"Negitive number...\")\n",
        "except ValueError:\n",
        "  print(\"Enter positive number only....\")\n",
        "else:\n",
        "  print(\"SquareRoot:\", round(math.sqrt(num),4))"
      ],
      "metadata": {
        "colab": {
          "base_uri": "https://localhost:8080/"
        },
        "id": "ZYbCWrGkKqXV",
        "outputId": "dffbd663-74e8-4ecd-fc5e-224d03882f3d"
      },
      "execution_count": 19,
      "outputs": [
        {
          "output_type": "stream",
          "name": "stdout",
          "text": [
            "Enter a number:-2\n",
            "Enter positive number only....\n"
          ]
        }
      ]
    },
    {
      "cell_type": "code",
      "source": [
        "import math\n",
        "try:\n",
        "  num=int(input(\"Enter a number:\"))\n",
        "  print(num)\n",
        "  raise ValueError\n",
        "except:\n",
        "  print(\"Exception raised intentionally even no use.....\")"
      ],
      "metadata": {
        "colab": {
          "base_uri": "https://localhost:8080/"
        },
        "id": "h4a127YANBQ1",
        "outputId": "078d4515-757e-4534-b2ba-b8f5ce56e850"
      },
      "execution_count": 20,
      "outputs": [
        {
          "output_type": "stream",
          "name": "stdout",
          "text": [
            "Enter a number:5\n",
            "5\n",
            "Exception raised intentionally even no use.....\n"
          ]
        }
      ]
    },
    {
      "cell_type": "code",
      "source": [],
      "metadata": {
        "id": "4bhonnkbUJmV"
      },
      "execution_count": null,
      "outputs": []
    }
  ]
}